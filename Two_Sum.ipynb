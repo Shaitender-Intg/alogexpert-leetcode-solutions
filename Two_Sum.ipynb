{
  "nbformat": 4,
  "nbformat_minor": 0,
  "metadata": {
    "colab": {
      "name": "Two Sum.ipynb",
      "provenance": [],
      "authorship_tag": "ABX9TyO4oTvNMeXWZ6RZ/hL4aY3e",
      "include_colab_link": true
    },
    "kernelspec": {
      "name": "python3",
      "display_name": "Python 3"
    }
  },
  "cells": [
    {
      "cell_type": "markdown",
      "metadata": {
        "id": "view-in-github",
        "colab_type": "text"
      },
      "source": [
        "<a href=\"https://colab.research.google.com/github/Shaitender/alogexpert-leetcode-solutions/blob/main/Two_Sum.ipynb\" target=\"_parent\"><img src=\"https://colab.research.google.com/assets/colab-badge.svg\" alt=\"Open In Colab\"/></a>"
      ]
    },
    {
      "cell_type": "markdown",
      "metadata": {
        "id": "Oa94QQUzVxF_"
      },
      "source": [
        "### Two Sum Problem\n",
        "\n",
        "**Given an array of integers nums and an integer target, return indices of the two numbers such that they add up to target.**\n",
        "\n",
        "**You may assume that each input would have exactly one solution, and you may not use the same element twice.**\n",
        "\n",
        "**You can return the answer in any order.**\n",
        "\n",
        " \n",
        "\n",
        "*Example 1:*\n",
        "\n",
        "Input: nums = [2,7,11,15], target = 9\n",
        "Output: [0,1]\n",
        "Output: Because nums[0] + nums[1] == 9, we return [0, 1].\n",
        "Example 2:\n",
        "\n",
        "Input: nums = [3,2,4], target = 6\n",
        "Output: [1,2]\n",
        "Example 3:\n",
        "\n",
        "Input: nums = [3,3], target = 6\n",
        "Output: [0,1] "
      ]
    },
    {
      "cell_type": "code",
      "metadata": {
        "id": "eGWs5Z98UxJA"
      },
      "source": [
        "class Solution(object):\n",
        "    def twoSum(self, nums, target):\n",
        "        \"\"\"\n",
        "        :type nums: List[int]\n",
        "        :type target: int\n",
        "        :rtype: List[int]\n",
        "        \n",
        "        # num + y = target\n",
        "        # y = target - num\n",
        "        \"\"\"\n",
        "        num_dict = {}\n",
        "        for idx, num in enumerate(nums):\n",
        "            temp_num = target - num \n",
        "            if temp_num in num_dict:\n",
        "                return [num_dict[temp_num],idx]\n",
        "            else:\n",
        "                num_dict[num]=idx\n",
        "        return []"
      ],
      "execution_count": 1,
      "outputs": []
    },
    {
      "cell_type": "code",
      "metadata": {
        "id": "8qheK4KgWGzX"
      },
      "source": [
        ""
      ],
      "execution_count": null,
      "outputs": []
    }
  ]
}